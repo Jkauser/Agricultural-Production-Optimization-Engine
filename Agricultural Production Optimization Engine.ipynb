{
 "cells": [
  {
   "cell_type": "code",
   "execution_count": 1,
   "id": "b9986413",
   "metadata": {},
   "outputs": [],
   "source": [
    "# for manipulation\n",
    "import pandas as pd\n",
    "import numpy as np\n",
    "\n",
    "# for data visualization\n",
    "import matplotlib.pyplot as plt\n",
    "import seaborn as sns\n",
    "sns.set_style('whitegrid')\n",
    "\n",
    "# to filter warnings\n",
    "import warnings\n",
    "warnings.filterwarnings('ignore')\n",
    "\n",
    "# for interactivity\n",
    "from ipywidgets import interact"
   ]
  },
  {
   "cell_type": "code",
   "execution_count": 2,
   "id": "a7c2bd5a",
   "metadata": {},
   "outputs": [],
   "source": [
    "# Reading the dataset\n",
    "data= pd.read_csv('data.csv')"
   ]
  },
  {
   "cell_type": "markdown",
   "id": "6367e418",
   "metadata": {},
   "source": [
    "### *Exploratory Data Analysis*"
   ]
  },
  {
   "cell_type": "code",
   "execution_count": 3,
   "id": "9d4bf17a",
   "metadata": {},
   "outputs": [
    {
     "name": "stdout",
     "output_type": "stream",
     "text": [
      "Shape of Dataset :  (2200, 8)\n"
     ]
    }
   ],
   "source": [
    "# Printing the shape of the dataset\n",
    "print(\"Shape of Dataset : \",data.shape)"
   ]
  },
  {
   "cell_type": "code",
   "execution_count": 4,
   "id": "16177d99",
   "metadata": {},
   "outputs": [
    {
     "data": {
      "text/html": [
       "<div>\n",
       "<style scoped>\n",
       "    .dataframe tbody tr th:only-of-type {\n",
       "        vertical-align: middle;\n",
       "    }\n",
       "\n",
       "    .dataframe tbody tr th {\n",
       "        vertical-align: top;\n",
       "    }\n",
       "\n",
       "    .dataframe thead th {\n",
       "        text-align: right;\n",
       "    }\n",
       "</style>\n",
       "<table border=\"1\" class=\"dataframe\">\n",
       "  <thead>\n",
       "    <tr style=\"text-align: right;\">\n",
       "      <th></th>\n",
       "      <th>N</th>\n",
       "      <th>P</th>\n",
       "      <th>K</th>\n",
       "      <th>temperature</th>\n",
       "      <th>humidity</th>\n",
       "      <th>ph</th>\n",
       "      <th>rainfall</th>\n",
       "      <th>label</th>\n",
       "    </tr>\n",
       "  </thead>\n",
       "  <tbody>\n",
       "    <tr>\n",
       "      <th>0</th>\n",
       "      <td>90</td>\n",
       "      <td>42</td>\n",
       "      <td>43</td>\n",
       "      <td>20.879744</td>\n",
       "      <td>82.002744</td>\n",
       "      <td>6.502985</td>\n",
       "      <td>202.935536</td>\n",
       "      <td>rice</td>\n",
       "    </tr>\n",
       "    <tr>\n",
       "      <th>1</th>\n",
       "      <td>85</td>\n",
       "      <td>58</td>\n",
       "      <td>41</td>\n",
       "      <td>21.770462</td>\n",
       "      <td>80.319644</td>\n",
       "      <td>7.038096</td>\n",
       "      <td>226.655537</td>\n",
       "      <td>rice</td>\n",
       "    </tr>\n",
       "    <tr>\n",
       "      <th>2</th>\n",
       "      <td>60</td>\n",
       "      <td>55</td>\n",
       "      <td>44</td>\n",
       "      <td>23.004459</td>\n",
       "      <td>82.320763</td>\n",
       "      <td>7.840207</td>\n",
       "      <td>263.964248</td>\n",
       "      <td>rice</td>\n",
       "    </tr>\n",
       "    <tr>\n",
       "      <th>3</th>\n",
       "      <td>74</td>\n",
       "      <td>35</td>\n",
       "      <td>40</td>\n",
       "      <td>26.491096</td>\n",
       "      <td>80.158363</td>\n",
       "      <td>6.980401</td>\n",
       "      <td>242.864034</td>\n",
       "      <td>rice</td>\n",
       "    </tr>\n",
       "    <tr>\n",
       "      <th>4</th>\n",
       "      <td>78</td>\n",
       "      <td>42</td>\n",
       "      <td>42</td>\n",
       "      <td>20.130175</td>\n",
       "      <td>81.604873</td>\n",
       "      <td>7.628473</td>\n",
       "      <td>262.717340</td>\n",
       "      <td>rice</td>\n",
       "    </tr>\n",
       "  </tbody>\n",
       "</table>\n",
       "</div>"
      ],
      "text/plain": [
       "    N   P   K  temperature   humidity        ph    rainfall label\n",
       "0  90  42  43    20.879744  82.002744  6.502985  202.935536  rice\n",
       "1  85  58  41    21.770462  80.319644  7.038096  226.655537  rice\n",
       "2  60  55  44    23.004459  82.320763  7.840207  263.964248  rice\n",
       "3  74  35  40    26.491096  80.158363  6.980401  242.864034  rice\n",
       "4  78  42  42    20.130175  81.604873  7.628473  262.717340  rice"
      ]
     },
     "execution_count": 4,
     "metadata": {},
     "output_type": "execute_result"
    }
   ],
   "source": [
    "# Printing the first five records of the dataset\n",
    "data.head()"
   ]
  },
  {
   "cell_type": "code",
   "execution_count": 5,
   "id": "a7430e5b",
   "metadata": {},
   "outputs": [
    {
     "data": {
      "text/plain": [
       "N              0\n",
       "P              0\n",
       "K              0\n",
       "temperature    0\n",
       "humidity       0\n",
       "ph             0\n",
       "rainfall       0\n",
       "label          0\n",
       "dtype: int64"
      ]
     },
     "execution_count": 5,
     "metadata": {},
     "output_type": "execute_result"
    }
   ],
   "source": [
    "# Checking for missing values\n",
    "data.isnull().sum()"
   ]
  },
  {
   "cell_type": "code",
   "execution_count": 6,
   "id": "1419a152",
   "metadata": {},
   "outputs": [
    {
     "data": {
      "text/plain": [
       "papaya         100\n",
       "rice           100\n",
       "mango          100\n",
       "kidneybeans    100\n",
       "coffee         100\n",
       "grapes         100\n",
       "maize          100\n",
       "watermelon     100\n",
       "pigeonpeas     100\n",
       "jute           100\n",
       "apple          100\n",
       "chickpea       100\n",
       "muskmelon      100\n",
       "orange         100\n",
       "mungbean       100\n",
       "coconut        100\n",
       "pomegranate    100\n",
       "lentil         100\n",
       "banana         100\n",
       "cotton         100\n",
       "mothbeans      100\n",
       "blackgram      100\n",
       "Name: label, dtype: int64"
      ]
     },
     "execution_count": 6,
     "metadata": {},
     "output_type": "execute_result"
    }
   ],
   "source": [
    "# Printing the crops present in the dataset\n",
    "data['label'].value_counts()"
   ]
  },
  {
   "cell_type": "code",
   "execution_count": 7,
   "id": "5b307848",
   "metadata": {},
   "outputs": [
    {
     "name": "stdout",
     "output_type": "stream",
     "text": [
      "Average Ratio of Nitrogen in the Soil : 50.55\n",
      "Average Ratio of Phosphorous in the Soil : 53.36\n",
      "Average Ratio of Potassium in the Soil : 48.15\n",
      "Average Temprature in Calcius : 25.62\n",
      "Average Relative Humidity in Percentage : 71.48\n",
      "Average PH Value of the Soil : 6.47\n",
      "Average Rainfall in mm : 103.46\n"
     ]
    }
   ],
   "source": [
    "# Let's check the summery for all crops\n",
    "\n",
    "print('Average Ratio of Nitrogen in the Soil : {0:.2f}'.format(data['N'].mean()))\n",
    "print('Average Ratio of Phosphorous in the Soil : {0:.2f}'.format(data['P'].mean()))\n",
    "print('Average Ratio of Potassium in the Soil : {0:.2f}'.format(data['K'].mean()))\n",
    "print('Average Temprature in Calcius : {0:.2f}'.format(data['temperature'].mean()))\n",
    "print('Average Relative Humidity in Percentage : {0:.2f}'.format(data['humidity'].mean()))\n",
    "print('Average PH Value of the Soil : {0:.2f}'.format(data['ph'].mean()))\n",
    "print('Average Rainfall in mm : {0:.2f}'.format(data['rainfall'].mean()))"
   ]
  },
  {
   "cell_type": "markdown",
   "id": "a5bd9ef8",
   "metadata": {},
   "source": [
    "##### Above statistics shows that,\n",
    "######  1.  Nitrogen,Phosphorous and Potassium content in soil should be around 50%\n",
    "######  2. Temperature of soil should be around 25°C and Humidity around 70%\n",
    "######  3.  Rainfall should be around 100mm and PH level should be around 7"
   ]
  },
  {
   "cell_type": "code",
   "execution_count": 8,
   "id": "ddba1912",
   "metadata": {},
   "outputs": [
    {
     "data": {
      "application/vnd.jupyter.widget-view+json": {
       "model_id": "2012a8e8d4d74a57a9655208f279df2d",
       "version_major": 2,
       "version_minor": 0
      },
      "text/plain": [
       "interactive(children=(Dropdown(description='crops', options=('papaya', 'rice', 'mango', 'kidneybeans', 'coffee…"
      ]
     },
     "metadata": {},
     "output_type": "display_data"
    }
   ],
   "source": [
    "# Let's check the Summery Statistics for each of the Crops\n",
    "\n",
    "@interact\n",
    "def summery(crops=list(data['label'].value_counts().index)):\n",
    "    x = data[data['label']==crops]\n",
    "    print(\"___________________________________________________________________\\n\")\n",
    "    print(\"Statistics for Nitrogen\")\n",
    "    print(\"Minimum Nitrogen Required : \", x['N'].min())\n",
    "    print(\"Average Nitrogen Required : \", x['N'].mean())\n",
    "    print(\"Maximum Nitrogen Required : \", x['N'].max())\n",
    "    print(\"___________________________________________________________________\\n\")\n",
    "    print(\"Statistics for Phosphorous\")\n",
    "    print(\"Minimum Phosphorous Required : \", x['P'].min())\n",
    "    print(\"Average Phosphorous Required : \", x['P'].mean())\n",
    "    print(\"Maximum Phosphorous Required : \", x['P'].max())\n",
    "    print(\"___________________________________________________________________\\n\")\n",
    "    print(\"Statistics for Ptassium\")\n",
    "    print(\"Minimum Ptassium Required : \", x['K'].min())\n",
    "    print(\"Average Ptassium Required : \", x['K'].mean())\n",
    "    print(\"Maximum Ptassium Required : \", x['K'].max())\n",
    "    print(\"___________________________________________________________________\\n\")\n",
    "    print(\"Statistics for Temperature\")\n",
    "    print(\"Minimum Temperature Required : {0:.2f}\".format(x['temperature'].min()))\n",
    "    print(\"Average Temperature Required : {0:.2f}\".format(x['temperature'].mean()))\n",
    "    print(\"Maximum Temperature Required : {0:.2f}\".format(x['temperature'].max()))\n",
    "    print(\"___________________________________________________________________\\n\")\n",
    "    print(\"Statistics for Humidity\")\n",
    "    print(\"Minimum Humidity Required : {0:.2f}\".format(x['humidity'].min()))\n",
    "    print(\"Average Humidity Required : {0:.2f}\".format(x['humidity'].mean()))\n",
    "    print(\"Maximum Humidity Required : {0:.2f}\".format(x['humidity'].max()))\n",
    "    print(\"___________________________________________________________________\\n\")\n",
    "    print(\"Statistics for PH\")\n",
    "    print(\"Minimum PH Required : {0:.2f}\".format(x['ph'].min()))\n",
    "    print(\"Average PH Required : {0:.2f}\".format(x['ph'].mean()))\n",
    "    print(\"Maximum PH Required : {0:.2f}\".format(x['ph'].max()))\n",
    "    print(\"___________________________________________________________________\\n\")\n",
    "    print(\"Statistics for Rainfall\")\n",
    "    print(\"Minimum Rainfall Required : {0:.2f}\".format(x['rainfall'].min()))\n",
    "    print(\"Average Rainfall Required : {0:.2f}\".format(x['rainfall'].mean()))\n",
    "    print(\"Maximum Rainfall Required : {0:.2f}\".format(x['rainfall'].max()))"
   ]
  },
  {
   "cell_type": "markdown",
   "id": "e591cd61",
   "metadata": {},
   "source": [
    "##### We can find statistics of any other crop by selecting on drop down list"
   ]
  },
  {
   "cell_type": "code",
   "execution_count": 9,
   "id": "5d147bee",
   "metadata": {},
   "outputs": [
    {
     "data": {
      "application/vnd.jupyter.widget-view+json": {
       "model_id": "c5b1daae73d643eda382b922768cfdfa",
       "version_major": 2,
       "version_minor": 0
      },
      "text/plain": [
       "interactive(children=(Dropdown(description='conditions', options=('N', 'P', 'K', 'temperature', 'ph', 'humidit…"
      ]
     },
     "metadata": {},
     "output_type": "display_data"
    }
   ],
   "source": [
    "# Let's compare the Average Riqurement for each crops with average conditions\n",
    "\n",
    "@interact\n",
    "def compare(conditions=['N','P','K','temperature','ph','humidity','rainfall']):\n",
    "    print(\"Average Value for\",conditions,'is {:0.2f}'.format(data[conditions].mean()))\n",
    "    print(\"______________________________________________________________________\\n\")\n",
    "    print(\"Rice {:0.2f}\".format(data[(data['label']=='rice')][conditions].mean()))\n",
    "    print(\"Maize {:0.2f}\".format(data[(data['label']=='maize')][conditions].mean()))\n",
    "    print(\"Chickpea {:0.2f}\".format(data[(data['label']=='chickpea')][conditions].mean()))\n",
    "    print(\"Kidneybeans {:0.2f}\".format(data[(data['label']=='kidneybeans')][conditions].mean()))\n",
    "    print(\"Pigeonpeas {:0.2f}\".format(data[(data['label']=='pigeonpeas')][conditions].mean()))\n",
    "    print(\"Mothbeans {:0.2f}\".format(data[(data['label']=='mothbeans')][conditions].mean()))\n",
    "    print(\"Mungbean {:0.2f}\".format(data[(data['label']=='mungbean')][conditions].mean()))\n",
    "    print(\"Blackgram {:0.2f}\".format(data[(data['label']=='blackgram')][conditions].mean()))\n",
    "    print(\"Lentil {:0.2f}\".format(data[(data['label']=='lentil')][conditions].mean()))\n",
    "    print(\"Pomegranate {:0.2f}\".format(data[(data['label']=='pomegranate')][conditions].mean()))\n",
    "    print(\"Banana {:0.2f}\".format(data[(data['label']=='banana')][conditions].mean()))\n",
    "    print(\"Mango {:0.2f}\".format(data[(data['label']=='mango')][conditions].mean()))\n",
    "    print(\"Grapes {:0.2f}\".format(data[(data['label']=='grapes')][conditions].mean()))\n",
    "    print(\"Watermelon {:0.2f}\".format(data[(data['label']=='watermelon')][conditions].mean()))\n",
    "    print(\"Muskmelon {:0.2f}\".format(data[(data['label']=='muskmelon')][conditions].mean()))\n",
    "    print(\"Apple {:0.2f}\".format(data[(data['label']=='apple')][conditions].mean()))\n",
    "    print(\"Orange {:0.2f}\".format(data[(data['label']=='orange')][conditions].mean()))\n",
    "    print(\"Papaya {:0.2f}\".format(data[(data['label']=='papaya')][conditions].mean()))\n",
    "    print(\"Coconut {:0.2f}\".format(data[(data['label']=='coconut')][conditions].mean()))\n",
    "    print(\"Jute {:0.2f}\".format(data[(data['label']=='jute')][conditions].mean()))\n",
    "    print(\"Coffee {:0.2f}\".format(data[(data['label']=='coffee')][conditions].mean()))"
   ]
  },
  {
   "cell_type": "markdown",
   "id": "876c40f3",
   "metadata": {},
   "source": [
    "###### We can find rainfall,temperature,humidity,Nitrogen,Potassium,Phosphorous and ph value of every individual crop by selecting on the drop down menu.\n"
   ]
  },
  {
   "cell_type": "code",
   "execution_count": 10,
   "id": "8b2b14cd",
   "metadata": {},
   "outputs": [
    {
     "data": {
      "application/vnd.jupyter.widget-view+json": {
       "model_id": "5a99bae820da41a6ab7ecf83d6ca9d13",
       "version_major": 2,
       "version_minor": 0
      },
      "text/plain": [
       "interactive(children=(Dropdown(description='Conditions', options=('N', 'P', 'K', 'temperature', 'ph', 'humidit…"
      ]
     },
     "metadata": {},
     "output_type": "display_data"
    }
   ],
   "source": [
    "# Let's check for further requirements\n",
    "\n",
    "@interact\n",
    "def compare(Conditions= ['N','P','K','temperature','ph','humidity','rainfall']):\n",
    "    print(\"Crops Require Greater than Average\",Conditions,':\\n')\n",
    "    print(data[data[Conditions] > data[Conditions].mean()]['label'].unique())\n",
    "    print(\"\\n__________________________________________________________________\\n\")\n",
    "    print(\"Crops Require Less than Average\",Conditions,':\\n')\n",
    "    print(data[data[Conditions] < data[Conditions].mean()]['label'].unique())"
   ]
  },
  {
   "cell_type": "code",
   "execution_count": 11,
   "id": "bed77f79",
   "metadata": {},
   "outputs": [
    {
     "data": {
      "application/vnd.jupyter.widget-view+json": {
       "model_id": "d6c462c1e40e42f48d5c77a21e0a1183",
       "version_major": 2,
       "version_minor": 0
      },
      "text/plain": [
       "interactive(children=(Dropdown(description='Conditions', options=('N', 'P', 'K', 'temperature', 'ph', 'humidit…"
      ]
     },
     "metadata": {},
     "output_type": "display_data"
    }
   ],
   "source": [
    "@interact\n",
    "def compare(Conditions= ['N','P','K','temperature','ph','humidity','rainfall']):\n",
    "    plt.figure(figsize=(8,6))\n",
    "    sns.barplot(data['label'], data[Conditions])\n",
    "    plt.xlabel('Crops',fontsize=14)\n",
    "    plt.xticks(rotation=90)\n",
    "    plt.ylabel(Conditions, fontsize=14)\n",
    "    "
   ]
  },
  {
   "cell_type": "code",
   "execution_count": 12,
   "id": "8f13c4f4",
   "metadata": {},
   "outputs": [
    {
     "data": {
      "application/vnd.jupyter.widget-view+json": {
       "model_id": "d7a62cf146864ea893e6ed0052e603b3",
       "version_major": 2,
       "version_minor": 0
      },
      "text/plain": [
       "interactive(children=(Dropdown(description='Conditions', options=('N', 'P', 'K', 'temperature', 'ph', 'humidit…"
      ]
     },
     "metadata": {},
     "output_type": "display_data"
    }
   ],
   "source": [
    "@interact\n",
    "def compare(Conditions= ['N','P','K','temperature','ph','humidity','rainfall']):\n",
    "    plt.figure()\n",
    "    sns.distplot(data[Conditions])\n",
    "    plt.xlabel(Conditions, fontsize=14)\n",
    "    plt.ylabel('Density',fontsize=14)\n",
    "    plt.axvline(data[Conditions].min(), color='y', label='Minimum')\n",
    "    plt.axvline(data[Conditions].mean(), color='orange', label='Mean')\n",
    "    plt.axvline(data[Conditions].max(), color='grey', label='Maximum')\n",
    "    plt.legend()\n",
    "    plt.title(\"\\nDistribution of Agricultural Conditions\\n\", fontsize=20)\n",
    "    plt.show()"
   ]
  },
  {
   "cell_type": "markdown",
   "id": "62d03e2d",
   "metadata": {},
   "source": [
    "###### We can observe the distribution of rainfall, temperature, humidity, Nitrogen, Potassium, Phosphorous and ph value of the soil crop by selecting on the drop down menu."
   ]
  },
  {
   "cell_type": "code",
   "execution_count": 13,
   "id": "bb50e5c2",
   "metadata": {},
   "outputs": [
    {
     "name": "stdout",
     "output_type": "stream",
     "text": [
      "Crops which require Very High Ratio of Nitrigen Content in Soil:  ['cotton']\n",
      "Crops which require Very High Ratio of Phosphorous Content in Soil:  ['grapes' 'apple']\n",
      "Crops which require Very High Ratio of Potassium Content in Soil:  ['grapes' 'apple']\n",
      "Crops which require Very High Rainfall:  ['rice' 'papaya' 'coconut']\n",
      "Crops which require Very High Temprature:  ['grapes' 'papaya']\n",
      "Crops which require Very Low Temprature:  ['grapes']\n",
      "Crops which require Very Low Humidity:  ['chickpea' 'kidneybeans']\n",
      "Crops which require Very Low PH:  ['mothbeans']\n",
      "Crops which require Very High PH:  ['mothbeans']\n"
     ]
    }
   ],
   "source": [
    "# Exploring the data to find more accurate conditions \n",
    "\n",
    "print(\"Crops which require Very High Ratio of Nitrigen Content in Soil: \",data[data['N']>120]['label'].unique())\n",
    "print(\"Crops which require Very High Ratio of Phosphorous Content in Soil: \",data[data['P']>100]['label'].unique())\n",
    "print(\"Crops which require Very High Ratio of Potassium Content in Soil: \",data[data['K']>200]['label'].unique())\n",
    "print(\"Crops which require Very High Rainfall: \",data[data['rainfall']>200]['label'].unique())\n",
    "print(\"Crops which require Very High Temprature: \",data[data['temperature']>40]['label'].unique())\n",
    "print(\"Crops which require Very Low Temprature: \",data[data['temperature']<10]['label'].unique())\n",
    "print(\"Crops which require Very Low Humidity: \",data[data['humidity']<20]['label'].unique())\n",
    "print(\"Crops which require Very Low PH: \",data[data['ph']<4]['label'].unique())\n",
    "print(\"Crops which require Very High PH: \",data[data['ph']>9]['label'].unique())"
   ]
  },
  {
   "cell_type": "markdown",
   "id": "27c74cef",
   "metadata": {},
   "source": [
    "# Seasonal Crops"
   ]
  },
  {
   "cell_type": "code",
   "execution_count": 14,
   "id": "d3505149",
   "metadata": {},
   "outputs": [
    {
     "name": "stdout",
     "output_type": "stream",
     "text": [
      "Summer Crops\n",
      "['pigeonpeas' 'mothbeans' 'blackgram' 'mango' 'grapes' 'orange' 'papaya']\n",
      "\n",
      "________________________________________________________________________\n",
      "\n",
      "Winter Crops\n",
      "['maize' 'pigeonpeas' 'lentil' 'pomegranate' 'grapes' 'orange']\n",
      "\n",
      "________________________________________________________________________\n",
      "\n",
      "Rainy Crops\n",
      "['rice' 'papaya' 'coconut']\n"
     ]
    }
   ],
   "source": [
    "# Categorisingthe crops based on seasons\n",
    "\n",
    "print(\"Summer Crops\")\n",
    "print(data[(data['temperature'] > 30) & (data['humidity'] > 50)]['label'].unique())\n",
    "print(\"\\n________________________________________________________________________\\n\")\n",
    "print(\"Winter Crops\")\n",
    "print(data[(data['temperature'] < 20) & (data['humidity'] > 30)]['label'].unique())\n",
    "print(\"\\n________________________________________________________________________\\n\")\n",
    "print(\"Rainy Crops\")\n",
    "print(data[(data['rainfall'] > 200) & (data['humidity'] > 30)]['label'].unique())"
   ]
  },
  {
   "cell_type": "markdown",
   "id": "8e1e15f2",
   "metadata": {},
   "source": [
    "##### We can see all the crops are catogorized into Summer, Winter and Rainy seasonal crops"
   ]
  },
  {
   "cell_type": "markdown",
   "id": "02995873",
   "metadata": {},
   "source": [
    "# K-Means Clustering"
   ]
  },
  {
   "cell_type": "code",
   "execution_count": 15,
   "id": "8f9006c6",
   "metadata": {},
   "outputs": [
    {
     "name": "stdout",
     "output_type": "stream",
     "text": [
      "Shape:  (2200, 7)\n"
     ]
    }
   ],
   "source": [
    "from sklearn.cluster import KMeans\n",
    "\n",
    "# removing the labels column from dataset\n",
    "x= data.drop(['label'], axis=1)\n",
    "\n",
    "# selecting all the values of the data\n",
    "x= x.values\n",
    "\n",
    "# checking the shape of the data\n",
    "print('Shape: ',x.shape)"
   ]
  },
  {
   "cell_type": "code",
   "execution_count": 16,
   "id": "cf8a8e38",
   "metadata": {},
   "outputs": [
    {
     "data": {
      "image/png": "[encoded data removed]",
      "text/plain": [
       "<Figure size 720x432 with 1 Axes>"
      ]
     },
     "metadata": {},
     "output_type": "display_data"
    }
   ],
   "source": [
    "# Let's determine the optimum number of clusters using Elbow Method\n",
    "\n",
    "plt.figure(figsize= (10,6))\n",
    "\n",
    "wcss = []\n",
    "\n",
    "for i in range(1,11):\n",
    "    km = KMeans(n_clusters=i, init='k-means++', max_iter=300, n_init= 10, random_state= 0)\n",
    "    km.fit(x)\n",
    "    wcss.append(km.inertia_)\n",
    "    \n",
    "    \n",
    "# plotting the results\n",
    "plt.plot(range(1,11), wcss)\n",
    "plt.title(\"\\nElbow Method to Find Optimum Number of Clusters\\n\", fontsize=20)\n",
    "plt.xlabel(\"Number of Clusters\", fontsize=14)\n",
    "plt.ylabel(\"WCSS\", fontsize=14)\n",
    "plt.show()"
   ]
  },
  {
   "cell_type": "code",
   "execution_count": 17,
   "id": "d6b117eb",
   "metadata": {},
   "outputs": [
    {
     "name": "stdout",
     "output_type": "stream",
     "text": [
      "Let's Check the Results After Applying the KMeans Clustring Algorithm\n",
      "\n",
      "Crops in First Cluster:  ['maize' 'banana' 'watermelon' 'muskmelon' 'papaya' 'cotton' 'coffee']\n",
      "\n",
      "________________________________________________________________\n",
      "\n",
      "Crops in Second Cluster:  ['maize' 'chickpea' 'kidneybeans' 'pigeonpeas' 'mothbeans' 'mungbean'\n",
      " 'blackgram' 'lentil' 'pomegranate' 'mango' 'orange' 'papaya' 'coconut']\n",
      "\n",
      "________________________________________________________________\n",
      "\n",
      "Crops in Third Cluster:  ['grapes' 'apple']\n",
      "\n",
      "________________________________________________________________\n",
      "\n",
      "Crops in Fourth Cluster:  ['rice' 'pigeonpeas' 'papaya' 'coconut' 'jute' 'coffee']\n"
     ]
    }
   ],
   "source": [
    "# let's implement the KMeans algorithm to perform clustering analysis\n",
    "km= KMeans(n_clusters=4, init='k-means++', max_iter=300, n_init=10, random_state=1)\n",
    "y_means= km.fit_predict(x)\n",
    "\n",
    "# let's find out the results\n",
    "a= data['label']\n",
    "y_means= pd.DataFrame(y_means)\n",
    "z= pd.concat([y_means, a], axis=1)\n",
    "z= z.rename(columns={0: 'cluster'})\n",
    "\n",
    "# let's check the clusters for each crop\n",
    "print(r\"Let's Check the Results After Applying the KMeans Clustring Algorithm\")\n",
    "print(\"\\nCrops in First Cluster: \",z[z['cluster'] == 0]['label'].unique())\n",
    "print(\"\\n________________________________________________________________\\n\")\n",
    "print(\"Crops in Second Cluster: \",z[z['cluster'] == 1]['label'].unique())\n",
    "print(\"\\n________________________________________________________________\\n\")\n",
    "print(\"Crops in Third Cluster: \",z[z['cluster'] == 2]['label'].unique())\n",
    "print(\"\\n________________________________________________________________\\n\")\n",
    "print(\"Crops in Fourth Cluster: \",z[z['cluster'] == 3]['label'].unique())"
   ]
  },
  {
   "cell_type": "code",
   "execution_count": 19,
   "id": "f201b797",
   "metadata": {},
   "outputs": [
    {
     "data": {
      "image/png": "[encoded data removed]",
      "text/plain": [
       "<Figure size 432x288 with 1 Axes>"
      ]
     },
     "metadata": {},
     "output_type": "display_data"
    }
   ],
   "source": [
    "kmeans = KMeans(n_clusters=4, init ='k-means++', max_iter=300, n_init=10,random_state=0 )\n",
    "y_kmeans = kmeans.fit_predict(x)\n",
    "plt.scatter(x[y_kmeans==0, 0], x[y_kmeans==0, 1], s=100, label ='Cluster 1')\n",
    "plt.scatter(x[y_kmeans==1, 0], x[y_kmeans==1, 1], s=100, label ='Cluster 2')\n",
    "plt.scatter(x[y_kmeans==2, 0], x[y_kmeans==2, 1], s=100, label ='Cluster 3')\n",
    "plt.scatter(x[y_kmeans==3, 0], x[y_kmeans==3, 1], s=100, label ='Cluster 4')\n",
    "\n",
    "plt.scatter(kmeans.cluster_centers_[:, 0], kmeans.cluster_centers_[:, 1], s=300, c='yellow', label = 'Centroids')\n",
    "plt.title('Clustering of Crops')\n",
    "plt.show()"
   ]
  },
  {
   "cell_type": "markdown",
   "id": "46485cbc",
   "metadata": {},
   "source": [
    "# Crop Prediction"
   ]
  },
  {
   "cell_type": "code",
   "execution_count": 20,
   "id": "470868eb",
   "metadata": {},
   "outputs": [
    {
     "name": "stdout",
     "output_type": "stream",
     "text": [
      "Shape of x:  (2200, 7)\n",
      "Shape of y:  (2200,)\n"
     ]
    }
   ],
   "source": [
    "# let's split the data for predictive modelling\n",
    "\n",
    "x= data.drop(['label'], axis=1)\n",
    "y= data['label']\n",
    "\n",
    "print(\"Shape of x: \", x.shape)\n",
    "print(\"Shape of y: \", y.shape)"
   ]
  },
  {
   "cell_type": "code",
   "execution_count": 21,
   "id": "1b6bc051",
   "metadata": {},
   "outputs": [
    {
     "name": "stdout",
     "output_type": "stream",
     "text": [
      "Shape of x_train:  (1760, 7)\n",
      "Shape of y_train:  (1760,)\n",
      "Shape of x_test:  (440, 7)\n",
      "Shape of y_test:  (440,)\n"
     ]
    }
   ],
   "source": [
    "# let's create training and testing sets for validation of results\n",
    "from sklearn.model_selection import train_test_split\n",
    "\n",
    "x_train, x_test, y_train, y_test= train_test_split(x,y, test_size=0.2, random_state=1)\n",
    "\n",
    "print(\"Shape of x_train: \", x_train.shape)\n",
    "print(\"Shape of y_train: \", y_train.shape)\n",
    "print(\"Shape of x_test: \", x_test.shape)\n",
    "print(\"Shape of y_test: \", y_test.shape)"
   ]
  },
  {
   "cell_type": "code",
   "execution_count": 22,
   "id": "30527674",
   "metadata": {},
   "outputs": [],
   "source": [
    "# let's create predictive model\n",
    "from sklearn.linear_model import LogisticRegression\n",
    "\n",
    "model= LogisticRegression()\n",
    "model.fit(x_train, y_train)\n",
    "y_pred= model.predict(x_test)"
   ]
  },
  {
   "cell_type": "code",
   "execution_count": 23,
   "id": "7300fea8",
   "metadata": {},
   "outputs": [
    {
     "data": {
      "image/png": "[encoded data removed]",
      "text/plain": [
       "<Figure size 720x576 with 2 Axes>"
      ]
     },
     "metadata": {},
     "output_type": "display_data"
    }
   ],
   "source": [
    "# evaluating the model performance\n",
    "from sklearn.metrics import confusion_matrix\n",
    "\n",
    "# plotting the confusion matrix\n",
    "plt.figure(figsize= (10,8))\n",
    "cm = confusion_matrix(y_test, y_pred)\n",
    "sns.heatmap(cm, annot=True, cmap='Blues')\n",
    "plt.title(\"\\nConfusion Matrix for Logistic Regression\\n\", fontsize= 15)\n",
    "plt.show()"
   ]
  },
  {
   "cell_type": "code",
   "execution_count": 24,
   "id": "07595bce",
   "metadata": {},
   "outputs": [
    {
     "name": "stdout",
     "output_type": "stream",
     "text": [
      "              precision    recall  f1-score   support\n",
      "\n",
      "       apple       1.00      1.00      1.00        22\n",
      "      banana       1.00      1.00      1.00        18\n",
      "   blackgram       1.00      1.00      1.00        22\n",
      "    chickpea       1.00      1.00      1.00        15\n",
      "     coconut       1.00      1.00      1.00        18\n",
      "      coffee       0.94      1.00      0.97        17\n",
      "      cotton       0.91      0.95      0.93        22\n",
      "      grapes       1.00      1.00      1.00        29\n",
      "        jute       0.92      0.88      0.90        25\n",
      " kidneybeans       1.00      1.00      1.00        20\n",
      "      lentil       0.90      1.00      0.95        18\n",
      "       maize       0.94      0.85      0.89        20\n",
      "       mango       1.00      1.00      1.00        17\n",
      "   mothbeans       0.96      0.96      0.96        24\n",
      "    mungbean       1.00      0.96      0.98        24\n",
      "   muskmelon       1.00      1.00      1.00        26\n",
      "      orange       1.00      1.00      1.00        15\n",
      "      papaya       0.92      0.86      0.89        14\n",
      "  pigeonpeas       1.00      1.00      1.00        19\n",
      " pomegranate       1.00      1.00      1.00        23\n",
      "        rice       0.79      0.85      0.81        13\n",
      "  watermelon       1.00      1.00      1.00        19\n",
      "\n",
      "    accuracy                           0.97       440\n",
      "   macro avg       0.97      0.97      0.97       440\n",
      "weighted avg       0.97      0.97      0.97       440\n",
      "\n"
     ]
    }
   ],
   "source": [
    "# let's print the classification report\n",
    "from sklearn.metrics import classification_report\n",
    "cr= classification_report(y_test, y_pred)\n",
    "print(cr)"
   ]
  },
  {
   "cell_type": "code",
   "execution_count": 25,
   "id": "26463579",
   "metadata": {},
   "outputs": [
    {
     "data": {
      "text/html": [
       "<div>\n",
       "<style scoped>\n",
       "    .dataframe tbody tr th:only-of-type {\n",
       "        vertical-align: middle;\n",
       "    }\n",
       "\n",
       "    .dataframe tbody tr th {\n",
       "        vertical-align: top;\n",
       "    }\n",
       "\n",
       "    .dataframe thead th {\n",
       "        text-align: right;\n",
       "    }\n",
       "</style>\n",
       "<table border=\"1\" class=\"dataframe\">\n",
       "  <thead>\n",
       "    <tr style=\"text-align: right;\">\n",
       "      <th></th>\n",
       "      <th>N</th>\n",
       "      <th>P</th>\n",
       "      <th>K</th>\n",
       "      <th>temperature</th>\n",
       "      <th>humidity</th>\n",
       "      <th>ph</th>\n",
       "      <th>rainfall</th>\n",
       "      <th>label</th>\n",
       "    </tr>\n",
       "  </thead>\n",
       "  <tbody>\n",
       "    <tr>\n",
       "      <th>0</th>\n",
       "      <td>90</td>\n",
       "      <td>42</td>\n",
       "      <td>43</td>\n",
       "      <td>20.879744</td>\n",
       "      <td>82.002744</td>\n",
       "      <td>6.502985</td>\n",
       "      <td>202.935536</td>\n",
       "      <td>rice</td>\n",
       "    </tr>\n",
       "    <tr>\n",
       "      <th>1</th>\n",
       "      <td>85</td>\n",
       "      <td>58</td>\n",
       "      <td>41</td>\n",
       "      <td>21.770462</td>\n",
       "      <td>80.319644</td>\n",
       "      <td>7.038096</td>\n",
       "      <td>226.655537</td>\n",
       "      <td>rice</td>\n",
       "    </tr>\n",
       "    <tr>\n",
       "      <th>2</th>\n",
       "      <td>60</td>\n",
       "      <td>55</td>\n",
       "      <td>44</td>\n",
       "      <td>23.004459</td>\n",
       "      <td>82.320763</td>\n",
       "      <td>7.840207</td>\n",
       "      <td>263.964248</td>\n",
       "      <td>rice</td>\n",
       "    </tr>\n",
       "    <tr>\n",
       "      <th>3</th>\n",
       "      <td>74</td>\n",
       "      <td>35</td>\n",
       "      <td>40</td>\n",
       "      <td>26.491096</td>\n",
       "      <td>80.158363</td>\n",
       "      <td>6.980401</td>\n",
       "      <td>242.864034</td>\n",
       "      <td>rice</td>\n",
       "    </tr>\n",
       "    <tr>\n",
       "      <th>4</th>\n",
       "      <td>78</td>\n",
       "      <td>42</td>\n",
       "      <td>42</td>\n",
       "      <td>20.130175</td>\n",
       "      <td>81.604873</td>\n",
       "      <td>7.628473</td>\n",
       "      <td>262.717340</td>\n",
       "      <td>rice</td>\n",
       "    </tr>\n",
       "    <tr>\n",
       "      <th>...</th>\n",
       "      <td>...</td>\n",
       "      <td>...</td>\n",
       "      <td>...</td>\n",
       "      <td>...</td>\n",
       "      <td>...</td>\n",
       "      <td>...</td>\n",
       "      <td>...</td>\n",
       "      <td>...</td>\n",
       "    </tr>\n",
       "    <tr>\n",
       "      <th>2195</th>\n",
       "      <td>107</td>\n",
       "      <td>34</td>\n",
       "      <td>32</td>\n",
       "      <td>26.774637</td>\n",
       "      <td>66.413269</td>\n",
       "      <td>6.780064</td>\n",
       "      <td>177.774507</td>\n",
       "      <td>coffee</td>\n",
       "    </tr>\n",
       "    <tr>\n",
       "      <th>2196</th>\n",
       "      <td>99</td>\n",
       "      <td>15</td>\n",
       "      <td>27</td>\n",
       "      <td>27.417112</td>\n",
       "      <td>56.636362</td>\n",
       "      <td>6.086922</td>\n",
       "      <td>127.924610</td>\n",
       "      <td>coffee</td>\n",
       "    </tr>\n",
       "    <tr>\n",
       "      <th>2197</th>\n",
       "      <td>118</td>\n",
       "      <td>33</td>\n",
       "      <td>30</td>\n",
       "      <td>24.131797</td>\n",
       "      <td>67.225123</td>\n",
       "      <td>6.362608</td>\n",
       "      <td>173.322839</td>\n",
       "      <td>coffee</td>\n",
       "    </tr>\n",
       "    <tr>\n",
       "      <th>2198</th>\n",
       "      <td>117</td>\n",
       "      <td>32</td>\n",
       "      <td>34</td>\n",
       "      <td>26.272418</td>\n",
       "      <td>52.127394</td>\n",
       "      <td>6.758793</td>\n",
       "      <td>127.175293</td>\n",
       "      <td>coffee</td>\n",
       "    </tr>\n",
       "    <tr>\n",
       "      <th>2199</th>\n",
       "      <td>104</td>\n",
       "      <td>18</td>\n",
       "      <td>30</td>\n",
       "      <td>23.603016</td>\n",
       "      <td>60.396475</td>\n",
       "      <td>6.779833</td>\n",
       "      <td>140.937041</td>\n",
       "      <td>coffee</td>\n",
       "    </tr>\n",
       "  </tbody>\n",
       "</table>\n",
       "<p>2200 rows × 8 columns</p>\n",
       "</div>"
      ],
      "text/plain": [
       "        N   P   K  temperature   humidity        ph    rainfall   label\n",
       "0      90  42  43    20.879744  82.002744  6.502985  202.935536    rice\n",
       "1      85  58  41    21.770462  80.319644  7.038096  226.655537    rice\n",
       "2      60  55  44    23.004459  82.320763  7.840207  263.964248    rice\n",
       "3      74  35  40    26.491096  80.158363  6.980401  242.864034    rice\n",
       "4      78  42  42    20.130175  81.604873  7.628473  262.717340    rice\n",
       "...   ...  ..  ..          ...        ...       ...         ...     ...\n",
       "2195  107  34  32    26.774637  66.413269  6.780064  177.774507  coffee\n",
       "2196   99  15  27    27.417112  56.636362  6.086922  127.924610  coffee\n",
       "2197  118  33  30    24.131797  67.225123  6.362608  173.322839  coffee\n",
       "2198  117  32  34    26.272418  52.127394  6.758793  127.175293  coffee\n",
       "2199  104  18  30    23.603016  60.396475  6.779833  140.937041  coffee\n",
       "\n",
       "[2200 rows x 8 columns]"
      ]
     },
     "execution_count": 25,
     "metadata": {},
     "output_type": "execute_result"
    }
   ],
   "source": [
    "# let's check the data first\n",
    "data"
   ]
  },
  {
   "cell_type": "code",
   "execution_count": 26,
   "id": "b86a4433",
   "metadata": {},
   "outputs": [
    {
     "name": "stdout",
     "output_type": "stream",
     "text": [
      "Enter value of Nitrogen: 104\n",
      "Enter value of Phosphorous: 18\n",
      "Enter value of Potassium: 30\n",
      "Enter value of Tempreture: 23\n",
      "Enter value of Humidity: 60\n",
      "Enter PH: 6\n",
      "Enter value of Rainfall: 140\n",
      "\n",
      "The Suggested Crop for Given Climatic Condition is:  ['coffee']\n"
     ]
    }
   ],
   "source": [
    "# based on given condition let's predict the crop\n",
    "\n",
    "N= input(\"Enter value of Nitrogen: \")\n",
    "P= input(\"Enter value of Phosphorous: \")\n",
    "K= input(\"Enter value of Potassium: \")\n",
    "T= input(\"Enter value of Tempreture: \")\n",
    "H= input(\"Enter value of Humidity: \")\n",
    "PH= input(\"Enter PH: \")\n",
    "R= input(\"Enter value of Rainfall: \")\n",
    "prediction= model.predict(np.array([[N,P,K,T,H,PH,R]]))\n",
    "print(\"\\nThe Suggested Crop for Given Climatic Condition is: \", prediction)"
   ]
  },
  {
   "cell_type": "markdown",
   "id": "85ba9894",
   "metadata": {},
   "source": [
    "# Model Implimentation"
   ]
  },
  {
   "cell_type": "markdown",
   "id": "b12238aa",
   "metadata": {},
   "source": [
    "### *Logisitic Regression*"
   ]
  },
  {
   "cell_type": "code",
   "execution_count": 27,
   "id": "9a1f4a84",
   "metadata": {},
   "outputs": [
    {
     "data": {
      "text/plain": [
       "0.9704545454545455"
      ]
     },
     "execution_count": 27,
     "metadata": {},
     "output_type": "execute_result"
    }
   ],
   "source": [
    "from sklearn.linear_model import LogisticRegression\n",
    "LogReg = LogisticRegression()\n",
    "LogReg.fit(x_train,y_train)\n",
    "\n",
    "# Predicting the target \n",
    "y_pred_LR= LogReg.predict(x_test)\n",
    "\n",
    "# Accuracy Score of Logistic Regression Model\n",
    "from sklearn.metrics import accuracy_score\n",
    "accuracy_LR= accuracy_score(y_test, y_pred_LR)\n",
    "accuracy_LR"
   ]
  },
  {
   "cell_type": "markdown",
   "id": "a0f32c1f",
   "metadata": {},
   "source": [
    "### *Random Forest*"
   ]
  },
  {
   "cell_type": "code",
   "execution_count": 28,
   "id": "2a799e90",
   "metadata": {},
   "outputs": [
    {
     "data": {
      "text/plain": [
       "0.9977272727272727"
      ]
     },
     "execution_count": 28,
     "metadata": {},
     "output_type": "execute_result"
    }
   ],
   "source": [
    "from sklearn import linear_model\n",
    "from sklearn.ensemble import RandomForestClassifier\n",
    "\n",
    "random_forest= RandomForestClassifier(n_estimators=100)\n",
    "random_forest.fit(x_train, y_train)\n",
    "\n",
    "# Predicting the target\n",
    "y_pred_RF= random_forest.predict(x_test)\n",
    "\n",
    "# Accuracy Score of Random Forest Model\n",
    "accuracy_RF= accuracy_score(y_test, y_pred_RF)\n",
    "accuracy_RF"
   ]
  },
  {
   "cell_type": "markdown",
   "id": "ab7ce7cc",
   "metadata": {},
   "source": [
    "### *Decision Tree Algorithm*"
   ]
  },
  {
   "cell_type": "code",
   "execution_count": 29,
   "id": "7378cc4f",
   "metadata": {},
   "outputs": [
    {
     "name": "stdout",
     "output_type": "stream",
     "text": [
      "Depth of the Decision Tree:  12 \n",
      "Number of Leaves in Decision Tree:  39\n"
     ]
    },
    {
     "data": {
      "text/plain": [
       "0.9954545454545455"
      ]
     },
     "execution_count": 29,
     "metadata": {},
     "output_type": "execute_result"
    }
   ],
   "source": [
    "from sklearn.tree import DecisionTreeClassifier\n",
    "DecTree= DecisionTreeClassifier()\n",
    "DecTree.fit(x_train,y_train)\n",
    "\n",
    "# depth of the Decision Tree\n",
    "print(\"Depth of the Decision Tree: \", DecTree.get_depth(), \"\\nNumber of Leaves in Decision Tree: \", DecTree.get_n_leaves())\n",
    "\n",
    "# Predicting the target \n",
    "y_pred_DT= DecTree.predict(x_test)\n",
    "\n",
    "# Accuracy Score of Decision Tree Classifier\n",
    "accuracy_DT= accuracy_score(y_test, y_pred_DT)\n",
    "accuracy_DT"
   ]
  },
  {
   "cell_type": "markdown",
   "id": "c34e9d28",
   "metadata": {},
   "source": [
    "### *K Nearest Neighbors*"
   ]
  },
  {
   "cell_type": "code",
   "execution_count": 30,
   "id": "b3b3bb01",
   "metadata": {},
   "outputs": [
    {
     "name": "stdout",
     "output_type": "stream",
     "text": [
      "Number of Neighbors used to predict the target:  5\n"
     ]
    },
    {
     "data": {
      "text/plain": [
       "0.9954545454545455"
      ]
     },
     "execution_count": 30,
     "metadata": {},
     "output_type": "execute_result"
    }
   ],
   "source": [
    "from sklearn.neighbors import KNeighborsClassifier\n",
    "KNN= KNeighborsClassifier()\n",
    "KNN.fit(x_train, y_train)\n",
    "\n",
    "# Number of Neighbors used to predict the target\n",
    "print(\"Number of Neighbors used to predict the target: \", KNN.n_neighbors)\n",
    "\n",
    "# Predicting the target \n",
    "y_pred_KNN= DecTree.predict(x_test)\n",
    "\n",
    "# Accuracy Score of KNN Classifier\n",
    "accuracy_KNN= accuracy_score(y_test, y_pred_KNN)\n",
    "accuracy_KNN"
   ]
  },
  {
   "cell_type": "markdown",
   "id": "0daddf21",
   "metadata": {},
   "source": [
    "### *Naive Bayes*"
   ]
  },
  {
   "cell_type": "code",
   "execution_count": 31,
   "id": "2c58afc2",
   "metadata": {},
   "outputs": [
    {
     "data": {
      "text/plain": [
       "0.9954545454545455"
      ]
     },
     "execution_count": 31,
     "metadata": {},
     "output_type": "execute_result"
    }
   ],
   "source": [
    "from sklearn.naive_bayes import GaussianNB\n",
    "NB= GaussianNB()\n",
    "NB.fit(x_train, y_train)\n",
    "\n",
    "# Predicting the target \n",
    "y_pred_NB= NB.predict(x_test)\n",
    "\n",
    "# Accuracy Score of Naive Bayes Classifier\n",
    "accuracy_NB= accuracy_score(y_test, y_pred_NB)\n",
    "accuracy_NB"
   ]
  },
  {
   "cell_type": "markdown",
   "id": "97ea2b32",
   "metadata": {},
   "source": [
    "### *Comparision of Different ML Algorithms*"
   ]
  },
  {
   "cell_type": "code",
   "execution_count": 32,
   "id": "e6188369",
   "metadata": {},
   "outputs": [
    {
     "data": {
      "text/html": [
       "<div>\n",
       "<style scoped>\n",
       "    .dataframe tbody tr th:only-of-type {\n",
       "        vertical-align: middle;\n",
       "    }\n",
       "\n",
       "    .dataframe tbody tr th {\n",
       "        vertical-align: top;\n",
       "    }\n",
       "\n",
       "    .dataframe thead th {\n",
       "        text-align: right;\n",
       "    }\n",
       "</style>\n",
       "<table border=\"1\" class=\"dataframe\">\n",
       "  <thead>\n",
       "    <tr style=\"text-align: right;\">\n",
       "      <th></th>\n",
       "      <th>Models</th>\n",
       "    </tr>\n",
       "    <tr>\n",
       "      <th>Accuracy_Score</th>\n",
       "      <th></th>\n",
       "    </tr>\n",
       "  </thead>\n",
       "  <tbody>\n",
       "    <tr>\n",
       "      <th>0.997727</th>\n",
       "      <td>Random Forest</td>\n",
       "    </tr>\n",
       "    <tr>\n",
       "      <th>0.995455</th>\n",
       "      <td>Decision Tree</td>\n",
       "    </tr>\n",
       "    <tr>\n",
       "      <th>0.995455</th>\n",
       "      <td>KNN</td>\n",
       "    </tr>\n",
       "    <tr>\n",
       "      <th>0.995455</th>\n",
       "      <td>Naive Bayes</td>\n",
       "    </tr>\n",
       "    <tr>\n",
       "      <th>0.970455</th>\n",
       "      <td>Logistic Regression</td>\n",
       "    </tr>\n",
       "  </tbody>\n",
       "</table>\n",
       "</div>"
      ],
      "text/plain": [
       "                             Models\n",
       "Accuracy_Score                     \n",
       "0.997727              Random Forest\n",
       "0.995455              Decision Tree\n",
       "0.995455                        KNN\n",
       "0.995455                Naive Bayes\n",
       "0.970455        Logistic Regression"
      ]
     },
     "execution_count": 32,
     "metadata": {},
     "output_type": "execute_result"
    }
   ],
   "source": [
    "results= pd.DataFrame({'Models': ['Random Forest','Logistic Regression', 'Decision Tree','KNN', 'Naive Bayes'], \n",
    "                       'Accuracy_Score': [accuracy_RF,accuracy_LR,accuracy_DT,accuracy_KNN,accuracy_NB]})\n",
    "results_df= results.sort_values(by='Accuracy_Score', ascending=False)\n",
    "results_df= results_df.set_index('Accuracy_Score')\n",
    "results_df"
   ]
  },
  {
   "cell_type": "markdown",
   "id": "0055de70",
   "metadata": {},
   "source": [
    "##### Here we can see that Random foreset has highest accuracy. That means,  Random forest is more preffered (fitted) classifier for the given dataset as it classifies (predicts) the data more accurately."
   ]
  },
  {
   "cell_type": "code",
   "execution_count": null,
   "id": "10e1194e",
   "metadata": {},
   "outputs": [],
   "source": []
  }
 ],
 "metadata": {
  "kernelspec": {
   "display_name": "Python 3",
   "language": "python",
   "name": "python3"
  },
  "language_info": {
   "codemirror_mode": {
    "name": "ipython",
    "version": 3
   },
   "file_extension": ".py",
   "mimetype": "text/x-python",
   "name": "python",
   "nbconvert_exporter": "python",
   "pygments_lexer": "ipython3",
   "version": "3.8.8"
  }
 },
 "nbformat": 4,
 "nbformat_minor": 5
}
